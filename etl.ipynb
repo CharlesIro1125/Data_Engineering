{
 "cells": [
  {
   "cell_type": "markdown",
   "metadata": {
    "editable": true
   },
   "source": [
    "# ETL Processes\n",
    "Use this notebook to develop the ETL process for each of your tables before completing the `etl.py` file to load the whole datasets."
   ]
  },
  {
   "cell_type": "code",
   "execution_count": 2,
   "metadata": {
    "editable": true
   },
   "outputs": [],
   "source": [
    "import os\n",
    "import glob\n",
    "import psycopg2\n",
    "import pandas as pd\n",
    "from sql_queries import *\n",
    "import numpy as np\n",
    "from datetime import datetime"
   ]
  },
  {
   "cell_type": "code",
   "execution_count": 2,
   "metadata": {
    "editable": true
   },
   "outputs": [
    {
     "name": "stdout",
     "output_type": "stream",
     "text": [
      "Help on function glob in module glob:\n",
      "\n",
      "glob(pathname, *, recursive=False)\n",
      "    Return a list of paths matching a pathname pattern.\n",
      "    \n",
      "    The pattern may contain simple shell-style wildcards a la\n",
      "    fnmatch. However, unlike fnmatch, filenames starting with a\n",
      "    dot are special cases that are not matched by '*' and '?'\n",
      "    patterns.\n",
      "    \n",
      "    If recursive is true, the pattern '**' will match any files and\n",
      "    zero or more directories and subdirectories.\n",
      "\n"
     ]
    }
   ],
   "source": [
    "help(glob.glob)"
   ]
  },
  {
   "cell_type": "code",
   "execution_count": 7,
   "metadata": {
    "editable": true
   },
   "outputs": [
    {
     "name": "stdout",
     "output_type": "stream",
     "text": [
      "Help on function abspath in module posixpath:\n",
      "\n",
      "abspath(path)\n",
      "    Return an absolute path.\n",
      "\n"
     ]
    }
   ],
   "source": [
    "help(os.path.abspath)"
   ]
  },
  {
   "cell_type": "code",
   "execution_count": 3,
   "metadata": {
    "editable": true
   },
   "outputs": [],
   "source": [
    "conn = psycopg2.connect(\"host=127.0.0.1 dbname=sparkifydb user=student password=student\")\n",
    "cur = conn.cursor()"
   ]
  },
  {
   "cell_type": "code",
   "execution_count": 4,
   "metadata": {
    "editable": true
   },
   "outputs": [],
   "source": [
    "def get_files(filepath):\n",
    "    all_files = []\n",
    "    for root, dirs, files in os.walk(filepath):\n",
    "        files = glob.glob(os.path.join(root,'*.json'))\n",
    "        for f in files:\n",
    "            all_files.append(os.path.abspath(f))\n",
    "    \n",
    "    return all_files"
   ]
  },
  {
   "cell_type": "code",
   "execution_count": 5,
   "metadata": {
    "editable": true
   },
   "outputs": [],
   "source": [
    "filepath = \"data/song_data\"\n",
    "all_files=[]\n",
    "#root,dirs,files = os.walk(filepath)\n",
    "for root, dirs, files in os.walk(filepath):\n",
    "    pattern = os.path.join(root,'*.json')\n",
    "    files = glob.glob(os.path.join(root,'*.json'))\n",
    "    #print(root,dirs,files)\n",
    "    for f in files:\n",
    "        all_files.append(os.path.abspath(f))\n",
    "        #print(all_files)"
   ]
  },
  {
   "cell_type": "markdown",
   "metadata": {
    "editable": true
   },
   "source": [
    "# Process `song_data`\n",
    "In this first part, you'll perform ETL on the first dataset, `song_data`, to create the `songs` and `artists` dimensional tables.\n",
    "\n",
    "Let's perform ETL on a single song file and load a single record into each table to start.\n",
    "- Use the `get_files` function provided above to get a list of all song JSON files in `data/song_data`\n",
    "- Select the first song in this list\n",
    "- Read the song file and view the data"
   ]
  },
  {
   "cell_type": "code",
   "execution_count": 5,
   "metadata": {
    "editable": true
   },
   "outputs": [
    {
     "data": {
      "text/plain": [
       "['/home/workspace/data/song_data/A/A/A/TRAAAAW128F429D538.json',\n",
       " '/home/workspace/data/song_data/A/A/A/TRAAAVG12903CFA543.json',\n",
       " '/home/workspace/data/song_data/A/A/A/TRAAARJ128F9320760.json',\n",
       " '/home/workspace/data/song_data/A/A/A/TRAAAPK128E0786D96.json',\n",
       " '/home/workspace/data/song_data/A/A/A/TRAAABD128F429CF47.json',\n",
       " '/home/workspace/data/song_data/A/A/A/TRAAAMO128F1481E7F.json',\n",
       " '/home/workspace/data/song_data/A/A/A/TRAAAMQ128F1460CD3.json',\n",
       " '/home/workspace/data/song_data/A/A/A/TRAAAVO128F93133D4.json',\n",
       " '/home/workspace/data/song_data/A/A/A/TRAAAEF128F4273421.json',\n",
       " '/home/workspace/data/song_data/A/A/A/TRAAAFD128F92F423A.json',\n",
       " '/home/workspace/data/song_data/A/A/A/TRAAADZ128F9348C2E.json',\n",
       " '/home/workspace/data/song_data/A/A/B/TRAABNV128F425CEE1.json',\n",
       " '/home/workspace/data/song_data/A/A/B/TRAABRB128F9306DD5.json',\n",
       " '/home/workspace/data/song_data/A/A/B/TRAABLR128F423B7E3.json',\n",
       " '/home/workspace/data/song_data/A/A/B/TRAABDL12903CAABBA.json',\n",
       " '/home/workspace/data/song_data/A/A/B/TRAABJL12903CDCF1A.json',\n",
       " '/home/workspace/data/song_data/A/A/B/TRAABVM128F92CA9DC.json',\n",
       " '/home/workspace/data/song_data/A/A/B/TRAABYN12903CFD305.json',\n",
       " '/home/workspace/data/song_data/A/A/B/TRAABXG128F9318EBD.json',\n",
       " '/home/workspace/data/song_data/A/A/B/TRAABCL128F4286650.json',\n",
       " '/home/workspace/data/song_data/A/A/B/TRAABYW128F4244559.json',\n",
       " '/home/workspace/data/song_data/A/A/B/TRAABJV128F1460C49.json',\n",
       " '/home/workspace/data/song_data/A/A/C/TRAACVS128E078BE39.json',\n",
       " '/home/workspace/data/song_data/A/A/C/TRAACPE128F421C1B9.json',\n",
       " '/home/workspace/data/song_data/A/A/C/TRAACLV128F427E123.json',\n",
       " '/home/workspace/data/song_data/A/A/C/TRAACER128F4290F96.json',\n",
       " '/home/workspace/data/song_data/A/A/C/TRAACTB12903CAAF15.json',\n",
       " '/home/workspace/data/song_data/A/A/C/TRAACFV128F935E50B.json',\n",
       " '/home/workspace/data/song_data/A/A/C/TRAACIW12903CC0F6D.json',\n",
       " '/home/workspace/data/song_data/A/A/C/TRAACOW128F933E35F.json',\n",
       " '/home/workspace/data/song_data/A/A/C/TRAACHN128F1489601.json',\n",
       " '/home/workspace/data/song_data/A/A/C/TRAACCG128F92E8A55.json',\n",
       " '/home/workspace/data/song_data/A/A/C/TRAACQT128F9331780.json',\n",
       " '/home/workspace/data/song_data/A/A/C/TRAACNS128F14A2DF5.json',\n",
       " '/home/workspace/data/song_data/A/A/C/TRAACSL128F93462F4.json',\n",
       " '/home/workspace/data/song_data/A/A/C/TRAACZK128F4243829.json',\n",
       " '/home/workspace/data/song_data/A/B/A/TRABAIO128F42938F9.json',\n",
       " '/home/workspace/data/song_data/A/B/A/TRABAWW128F4250A31.json',\n",
       " '/home/workspace/data/song_data/A/B/A/TRABAZH128F930419A.json',\n",
       " '/home/workspace/data/song_data/A/B/A/TRABAVQ12903CBF7E0.json',\n",
       " '/home/workspace/data/song_data/A/B/A/TRABAXR128F426515F.json',\n",
       " '/home/workspace/data/song_data/A/B/A/TRABAXL128F424FC50.json',\n",
       " '/home/workspace/data/song_data/A/B/A/TRABAFJ128F42AF24E.json',\n",
       " '/home/workspace/data/song_data/A/B/A/TRABAXV128F92F6AE3.json',\n",
       " '/home/workspace/data/song_data/A/B/A/TRABACN128F425B784.json',\n",
       " '/home/workspace/data/song_data/A/B/A/TRABATO128F42627E9.json',\n",
       " '/home/workspace/data/song_data/A/B/A/TRABAFP128F931E9A1.json',\n",
       " '/home/workspace/data/song_data/A/B/B/TRABBVJ128F92F7EAA.json',\n",
       " '/home/workspace/data/song_data/A/B/B/TRABBXU128F92FEF48.json',\n",
       " '/home/workspace/data/song_data/A/B/B/TRABBAM128F429D223.json',\n",
       " '/home/workspace/data/song_data/A/B/B/TRABBZN12903CD9297.json',\n",
       " '/home/workspace/data/song_data/A/B/B/TRABBNP128F932546F.json',\n",
       " '/home/workspace/data/song_data/A/B/B/TRABBOR128F4286200.json',\n",
       " '/home/workspace/data/song_data/A/B/B/TRABBOP128F931B50D.json',\n",
       " '/home/workspace/data/song_data/A/B/B/TRABBLU128F93349CF.json',\n",
       " '/home/workspace/data/song_data/A/B/B/TRABBBV128F42967D7.json',\n",
       " '/home/workspace/data/song_data/A/B/B/TRABBJE12903CDB442.json',\n",
       " '/home/workspace/data/song_data/A/B/B/TRABBKX128F4285205.json',\n",
       " '/home/workspace/data/song_data/A/B/B/TRABBTA128F933D304.json',\n",
       " '/home/workspace/data/song_data/A/B/C/TRABCEI128F424C983.json',\n",
       " '/home/workspace/data/song_data/A/B/C/TRABCUQ128E0783E2B.json',\n",
       " '/home/workspace/data/song_data/A/B/C/TRABCTK128F934B224.json',\n",
       " '/home/workspace/data/song_data/A/B/C/TRABCIX128F4265903.json',\n",
       " '/home/workspace/data/song_data/A/B/C/TRABCEC128F426456E.json',\n",
       " '/home/workspace/data/song_data/A/B/C/TRABCPZ128F4275C32.json',\n",
       " '/home/workspace/data/song_data/A/B/C/TRABCXB128F4286BD3.json',\n",
       " '/home/workspace/data/song_data/A/B/C/TRABCAJ12903CDFCC2.json',\n",
       " '/home/workspace/data/song_data/A/B/C/TRABCFL128F149BB0D.json',\n",
       " '/home/workspace/data/song_data/A/B/C/TRABCKL128F423A778.json',\n",
       " '/home/workspace/data/song_data/A/B/C/TRABCRU128F423F449.json',\n",
       " '/home/workspace/data/song_data/A/B/C/TRABCYE128F934CE1D.json']"
      ]
     },
     "execution_count": 5,
     "metadata": {},
     "output_type": "execute_result"
    }
   ],
   "source": [
    "song_files = get_files(filepath = \"data/song_data\")\n",
    "song_files"
   ]
  },
  {
   "cell_type": "code",
   "execution_count": 6,
   "metadata": {
    "editable": true
   },
   "outputs": [
    {
     "data": {
      "text/plain": [
       "'/home/workspace/data/song_data/A/A/A/TRAAAVG12903CFA543.json'"
      ]
     },
     "execution_count": 6,
     "metadata": {},
     "output_type": "execute_result"
    }
   ],
   "source": [
    "filepath = song_files[1]\n",
    "filepath"
   ]
  },
  {
   "cell_type": "code",
   "execution_count": 7,
   "metadata": {
    "editable": true
   },
   "outputs": [
    {
     "data": {
      "text/html": [
       "<div>\n",
       "<style scoped>\n",
       "    .dataframe tbody tr th:only-of-type {\n",
       "        vertical-align: middle;\n",
       "    }\n",
       "\n",
       "    .dataframe tbody tr th {\n",
       "        vertical-align: top;\n",
       "    }\n",
       "\n",
       "    .dataframe thead th {\n",
       "        text-align: right;\n",
       "    }\n",
       "</style>\n",
       "<table border=\"1\" class=\"dataframe\">\n",
       "  <thead>\n",
       "    <tr style=\"text-align: right;\">\n",
       "      <th></th>\n",
       "      <th>artist_id</th>\n",
       "      <th>artist_latitude</th>\n",
       "      <th>artist_location</th>\n",
       "      <th>artist_longitude</th>\n",
       "      <th>artist_name</th>\n",
       "      <th>duration</th>\n",
       "      <th>num_songs</th>\n",
       "      <th>song_id</th>\n",
       "      <th>title</th>\n",
       "      <th>year</th>\n",
       "    </tr>\n",
       "  </thead>\n",
       "  <tbody>\n",
       "    <tr>\n",
       "      <th>0</th>\n",
       "      <td>ARNTLGG11E2835DDB9</td>\n",
       "      <td>NaN</td>\n",
       "      <td></td>\n",
       "      <td>NaN</td>\n",
       "      <td>Clp</td>\n",
       "      <td>266.39628</td>\n",
       "      <td>1</td>\n",
       "      <td>SOUDSGM12AC9618304</td>\n",
       "      <td>Insatiable (Instrumental Version)</td>\n",
       "      <td>0</td>\n",
       "    </tr>\n",
       "  </tbody>\n",
       "</table>\n",
       "</div>"
      ],
      "text/plain": [
       "            artist_id  artist_latitude artist_location  artist_longitude  \\\n",
       "0  ARNTLGG11E2835DDB9              NaN                               NaN   \n",
       "\n",
       "  artist_name   duration  num_songs             song_id  \\\n",
       "0         Clp  266.39628          1  SOUDSGM12AC9618304   \n",
       "\n",
       "                               title  year  \n",
       "0  Insatiable (Instrumental Version)     0  "
      ]
     },
     "execution_count": 7,
     "metadata": {},
     "output_type": "execute_result"
    }
   ],
   "source": [
    "df = pd.read_json(filepath,lines=True)\n",
    "df.head()"
   ]
  },
  {
   "cell_type": "markdown",
   "metadata": {
    "editable": true
   },
   "source": [
    "## #1: `songs` Table\n",
    "#### Extract Data for Songs Table\n",
    "- Select columns for song ID, title, artist ID, year, and duration\n",
    "- Use `df.values` to select just the values from the dataframe\n",
    "- Index to select the first (only) record in the dataframe\n",
    "- Convert the array to a list and set it to `song_data`"
   ]
  },
  {
   "cell_type": "code",
   "execution_count": 8,
   "metadata": {
    "editable": true
   },
   "outputs": [
    {
     "data": {
      "text/plain": [
       "['SOUDSGM12AC9618304',\n",
       " 'Insatiable (Instrumental Version)',\n",
       " 'ARNTLGG11E2835DDB9',\n",
       " 0,\n",
       " 266.39627999999999]"
      ]
     },
     "execution_count": 8,
     "metadata": {},
     "output_type": "execute_result"
    }
   ],
   "source": [
    "song_data = df.loc[0,[\"song_id\",\"title\",\"artist_id\",\"year\",\"duration\"]]\n",
    "song_data=song_data.to_dict()\n",
    "song_data['year'] = int(song_data['year'])\n",
    "song_data =list(song_data.values())\n",
    "song_data\n"
   ]
  },
  {
   "cell_type": "markdown",
   "metadata": {
    "editable": true
   },
   "source": [
    "#### Insert Record into Song Table\n",
    "Implement the `song_table_insert` query in `sql_queries.py` and run the cell below to insert a record for this song into the `songs` table. Remember to run `create_tables.py` before running the cell below to ensure you've created/resetted the `songs` table in the sparkify database."
   ]
  },
  {
   "cell_type": "code",
   "execution_count": 8,
   "metadata": {
    "editable": true
   },
   "outputs": [],
   "source": [
    "cur.execute(song_table_insert, song_data)\n",
    "conn.commit()"
   ]
  },
  {
   "cell_type": "markdown",
   "metadata": {
    "editable": true
   },
   "source": [
    "Run `test.ipynb` to see if you've successfully added a record to this table."
   ]
  },
  {
   "cell_type": "markdown",
   "metadata": {
    "editable": true
   },
   "source": [
    "## #2: `artists` Table\n",
    "#### Extract Data for Artists Table\n",
    "- Select columns for artist ID, name, location, latitude, and longitude\n",
    "- Use `df.values` to select just the values from the dataframe\n",
    "- Index to select the first (only) record in the dataframe\n",
    "- Convert the array to a list and set it to `artist_data`"
   ]
  },
  {
   "cell_type": "code",
   "execution_count": 9,
   "metadata": {
    "editable": true
   },
   "outputs": [
    {
     "data": {
      "text/plain": [
       "['ARNTLGG11E2835DDB9', 'Clp', '', nan, nan]"
      ]
     },
     "execution_count": 9,
     "metadata": {},
     "output_type": "execute_result"
    }
   ],
   "source": [
    "artist_data = df.loc[0,[\"artist_id\",\"artist_name\",\"artist_location\",\"artist_latitude\",\"artist_longitude\"]].values\n",
    "artist_data= artist_data.tolist()\n",
    "artist_data"
   ]
  },
  {
   "cell_type": "markdown",
   "metadata": {
    "editable": true
   },
   "source": [
    "#### Insert Record into Artist Table\n",
    "Implement the `artist_table_insert` query in `sql_queries.py` and run the cell below to insert a record for this song's artist into the `artists` table. Remember to run `create_tables.py` before running the cell below to ensure you've created/resetted the `artists` table in the sparkify database."
   ]
  },
  {
   "cell_type": "code",
   "execution_count": 10,
   "metadata": {
    "editable": true
   },
   "outputs": [],
   "source": [
    "cur.execute(artist_table_insert, artist_data)\n",
    "conn.commit()"
   ]
  },
  {
   "cell_type": "markdown",
   "metadata": {
    "editable": true
   },
   "source": [
    "Run `test.ipynb` to see if you've successfully added a record to this table."
   ]
  },
  {
   "cell_type": "markdown",
   "metadata": {
    "editable": true
   },
   "source": [
    "# Process `log_data`\n",
    "In this part, you'll perform ETL on the second dataset, `log_data`, to create the `time` and `users` dimensional tables, as well as the `songplays` fact table.\n",
    "\n",
    "Let's perform ETL on a single log file and load a single record into each table.\n",
    "- Use the `get_files` function provided above to get a list of all log JSON files in `data/log_data`\n",
    "- Select the first log file in this list\n",
    "- Read the log file and view the data"
   ]
  },
  {
   "cell_type": "code",
   "execution_count": 10,
   "metadata": {
    "editable": true
   },
   "outputs": [
    {
     "data": {
      "text/plain": [
       "['/home/workspace/data/log_data/2018/11/2018-11-30-events.json',\n",
       " '/home/workspace/data/log_data/2018/11/2018-11-11-events.json',\n",
       " '/home/workspace/data/log_data/2018/11/2018-11-23-events.json',\n",
       " '/home/workspace/data/log_data/2018/11/2018-11-24-events.json',\n",
       " '/home/workspace/data/log_data/2018/11/2018-11-25-events.json',\n",
       " '/home/workspace/data/log_data/2018/11/2018-11-20-events.json',\n",
       " '/home/workspace/data/log_data/2018/11/2018-11-15-events.json',\n",
       " '/home/workspace/data/log_data/2018/11/2018-11-01-events.json',\n",
       " '/home/workspace/data/log_data/2018/11/2018-11-03-events.json',\n",
       " '/home/workspace/data/log_data/2018/11/2018-11-13-events.json',\n",
       " '/home/workspace/data/log_data/2018/11/2018-11-10-events.json',\n",
       " '/home/workspace/data/log_data/2018/11/2018-11-28-events.json',\n",
       " '/home/workspace/data/log_data/2018/11/2018-11-26-events.json',\n",
       " '/home/workspace/data/log_data/2018/11/2018-11-04-events.json',\n",
       " '/home/workspace/data/log_data/2018/11/2018-11-14-events.json',\n",
       " '/home/workspace/data/log_data/2018/11/2018-11-27-events.json',\n",
       " '/home/workspace/data/log_data/2018/11/2018-11-21-events.json',\n",
       " '/home/workspace/data/log_data/2018/11/2018-11-06-events.json',\n",
       " '/home/workspace/data/log_data/2018/11/2018-11-22-events.json',\n",
       " '/home/workspace/data/log_data/2018/11/2018-11-12-events.json',\n",
       " '/home/workspace/data/log_data/2018/11/2018-11-05-events.json',\n",
       " '/home/workspace/data/log_data/2018/11/2018-11-09-events.json',\n",
       " '/home/workspace/data/log_data/2018/11/2018-11-08-events.json',\n",
       " '/home/workspace/data/log_data/2018/11/2018-11-02-events.json',\n",
       " '/home/workspace/data/log_data/2018/11/2018-11-18-events.json',\n",
       " '/home/workspace/data/log_data/2018/11/2018-11-07-events.json',\n",
       " '/home/workspace/data/log_data/2018/11/2018-11-16-events.json',\n",
       " '/home/workspace/data/log_data/2018/11/2018-11-29-events.json',\n",
       " '/home/workspace/data/log_data/2018/11/2018-11-19-events.json',\n",
       " '/home/workspace/data/log_data/2018/11/2018-11-17-events.json']"
      ]
     },
     "execution_count": 10,
     "metadata": {},
     "output_type": "execute_result"
    }
   ],
   "source": [
    "log_files = get_files(filepath = \"data/log_data\")\n",
    "log_files"
   ]
  },
  {
   "cell_type": "code",
   "execution_count": 11,
   "metadata": {
    "editable": true
   },
   "outputs": [
    {
     "data": {
      "text/plain": [
       "'/home/workspace/data/log_data/2018/11/2018-11-20-events.json'"
      ]
     },
     "execution_count": 11,
     "metadata": {},
     "output_type": "execute_result"
    }
   ],
   "source": [
    "filepath = log_files[5]\n",
    "filepath"
   ]
  },
  {
   "cell_type": "code",
   "execution_count": 12,
   "metadata": {
    "editable": true
   },
   "outputs": [
    {
     "data": {
      "text/html": [
       "<div>\n",
       "<style scoped>\n",
       "    .dataframe tbody tr th:only-of-type {\n",
       "        vertical-align: middle;\n",
       "    }\n",
       "\n",
       "    .dataframe tbody tr th {\n",
       "        vertical-align: top;\n",
       "    }\n",
       "\n",
       "    .dataframe thead th {\n",
       "        text-align: right;\n",
       "    }\n",
       "</style>\n",
       "<table border=\"1\" class=\"dataframe\">\n",
       "  <thead>\n",
       "    <tr style=\"text-align: right;\">\n",
       "      <th></th>\n",
       "      <th>artist</th>\n",
       "      <th>auth</th>\n",
       "      <th>firstName</th>\n",
       "      <th>gender</th>\n",
       "      <th>itemInSession</th>\n",
       "      <th>lastName</th>\n",
       "      <th>length</th>\n",
       "      <th>level</th>\n",
       "      <th>location</th>\n",
       "      <th>method</th>\n",
       "      <th>page</th>\n",
       "      <th>registration</th>\n",
       "      <th>sessionId</th>\n",
       "      <th>song</th>\n",
       "      <th>status</th>\n",
       "      <th>ts</th>\n",
       "      <th>userAgent</th>\n",
       "      <th>userId</th>\n",
       "    </tr>\n",
       "  </thead>\n",
       "  <tbody>\n",
       "    <tr>\n",
       "      <th>0</th>\n",
       "      <td>The Killers</td>\n",
       "      <td>Logged In</td>\n",
       "      <td>Jayden</td>\n",
       "      <td>M</td>\n",
       "      <td>32</td>\n",
       "      <td>Graves</td>\n",
       "      <td>246.80444</td>\n",
       "      <td>paid</td>\n",
       "      <td>Marinette, WI-MI</td>\n",
       "      <td>PUT</td>\n",
       "      <td>NextSong</td>\n",
       "      <td>1.540664e+12</td>\n",
       "      <td>594</td>\n",
       "      <td>Read My Mind</td>\n",
       "      <td>200</td>\n",
       "      <td>1542672042796</td>\n",
       "      <td>\"Mozilla/5.0 (Windows NT 6.3; WOW64) AppleWebK...</td>\n",
       "      <td>25</td>\n",
       "    </tr>\n",
       "    <tr>\n",
       "      <th>1</th>\n",
       "      <td>Tamia</td>\n",
       "      <td>Logged In</td>\n",
       "      <td>Jayden</td>\n",
       "      <td>M</td>\n",
       "      <td>33</td>\n",
       "      <td>Graves</td>\n",
       "      <td>243.09506</td>\n",
       "      <td>paid</td>\n",
       "      <td>Marinette, WI-MI</td>\n",
       "      <td>PUT</td>\n",
       "      <td>NextSong</td>\n",
       "      <td>1.540664e+12</td>\n",
       "      <td>594</td>\n",
       "      <td>Officially Missing You (Radio Version)</td>\n",
       "      <td>200</td>\n",
       "      <td>1542672288796</td>\n",
       "      <td>\"Mozilla/5.0 (Windows NT 6.3; WOW64) AppleWebK...</td>\n",
       "      <td>25</td>\n",
       "    </tr>\n",
       "    <tr>\n",
       "      <th>2</th>\n",
       "      <td>Randy Crawford</td>\n",
       "      <td>Logged In</td>\n",
       "      <td>Jayden</td>\n",
       "      <td>M</td>\n",
       "      <td>34</td>\n",
       "      <td>Graves</td>\n",
       "      <td>270.75873</td>\n",
       "      <td>paid</td>\n",
       "      <td>Marinette, WI-MI</td>\n",
       "      <td>PUT</td>\n",
       "      <td>NextSong</td>\n",
       "      <td>1.540664e+12</td>\n",
       "      <td>594</td>\n",
       "      <td>Almaz</td>\n",
       "      <td>200</td>\n",
       "      <td>1542672531796</td>\n",
       "      <td>\"Mozilla/5.0 (Windows NT 6.3; WOW64) AppleWebK...</td>\n",
       "      <td>25</td>\n",
       "    </tr>\n",
       "    <tr>\n",
       "      <th>3</th>\n",
       "      <td>Frumpies</td>\n",
       "      <td>Logged In</td>\n",
       "      <td>Jayden</td>\n",
       "      <td>M</td>\n",
       "      <td>35</td>\n",
       "      <td>Graves</td>\n",
       "      <td>134.47791</td>\n",
       "      <td>paid</td>\n",
       "      <td>Marinette, WI-MI</td>\n",
       "      <td>PUT</td>\n",
       "      <td>NextSong</td>\n",
       "      <td>1.540664e+12</td>\n",
       "      <td>594</td>\n",
       "      <td>Fuck Kitty</td>\n",
       "      <td>200</td>\n",
       "      <td>1542672801796</td>\n",
       "      <td>\"Mozilla/5.0 (Windows NT 6.3; WOW64) AppleWebK...</td>\n",
       "      <td>25</td>\n",
       "    </tr>\n",
       "    <tr>\n",
       "      <th>4</th>\n",
       "      <td>Julia Fordham</td>\n",
       "      <td>Logged In</td>\n",
       "      <td>Jayden</td>\n",
       "      <td>M</td>\n",
       "      <td>36</td>\n",
       "      <td>Graves</td>\n",
       "      <td>279.50975</td>\n",
       "      <td>paid</td>\n",
       "      <td>Marinette, WI-MI</td>\n",
       "      <td>PUT</td>\n",
       "      <td>NextSong</td>\n",
       "      <td>1.540664e+12</td>\n",
       "      <td>594</td>\n",
       "      <td>Girlfriend</td>\n",
       "      <td>200</td>\n",
       "      <td>1542672935796</td>\n",
       "      <td>\"Mozilla/5.0 (Windows NT 6.3; WOW64) AppleWebK...</td>\n",
       "      <td>25</td>\n",
       "    </tr>\n",
       "  </tbody>\n",
       "</table>\n",
       "</div>"
      ],
      "text/plain": [
       "           artist       auth firstName gender  itemInSession lastName  \\\n",
       "0     The Killers  Logged In    Jayden      M             32   Graves   \n",
       "1           Tamia  Logged In    Jayden      M             33   Graves   \n",
       "2  Randy Crawford  Logged In    Jayden      M             34   Graves   \n",
       "3        Frumpies  Logged In    Jayden      M             35   Graves   \n",
       "4   Julia Fordham  Logged In    Jayden      M             36   Graves   \n",
       "\n",
       "      length level          location method      page  registration  \\\n",
       "0  246.80444  paid  Marinette, WI-MI    PUT  NextSong  1.540664e+12   \n",
       "1  243.09506  paid  Marinette, WI-MI    PUT  NextSong  1.540664e+12   \n",
       "2  270.75873  paid  Marinette, WI-MI    PUT  NextSong  1.540664e+12   \n",
       "3  134.47791  paid  Marinette, WI-MI    PUT  NextSong  1.540664e+12   \n",
       "4  279.50975  paid  Marinette, WI-MI    PUT  NextSong  1.540664e+12   \n",
       "\n",
       "   sessionId                                    song  status             ts  \\\n",
       "0        594                            Read My Mind     200  1542672042796   \n",
       "1        594  Officially Missing You (Radio Version)     200  1542672288796   \n",
       "2        594                                   Almaz     200  1542672531796   \n",
       "3        594                              Fuck Kitty     200  1542672801796   \n",
       "4        594                              Girlfriend     200  1542672935796   \n",
       "\n",
       "                                           userAgent userId  \n",
       "0  \"Mozilla/5.0 (Windows NT 6.3; WOW64) AppleWebK...     25  \n",
       "1  \"Mozilla/5.0 (Windows NT 6.3; WOW64) AppleWebK...     25  \n",
       "2  \"Mozilla/5.0 (Windows NT 6.3; WOW64) AppleWebK...     25  \n",
       "3  \"Mozilla/5.0 (Windows NT 6.3; WOW64) AppleWebK...     25  \n",
       "4  \"Mozilla/5.0 (Windows NT 6.3; WOW64) AppleWebK...     25  "
      ]
     },
     "execution_count": 12,
     "metadata": {},
     "output_type": "execute_result"
    }
   ],
   "source": [
    "df = pd.read_json(filepath,lines=True)\n",
    "df.head()"
   ]
  },
  {
   "cell_type": "markdown",
   "metadata": {
    "editable": true
   },
   "source": [
    "## #3: `time` Table\n",
    "#### Extract Data for Time Table\n",
    "- Filter records by `NextSong` action\n",
    "- Convert the `ts` timestamp column to datetime\n",
    "  - Hint: the current timestamp is in milliseconds\n",
    "- Extract the timestamp, hour, day, week of year, month, year, and weekday from the `ts` column and set `time_data` to a list containing these values in order\n",
    "  - Hint: use pandas' [`dt` attribute](https://pandas.pydata.org/pandas-docs/stable/reference/api/pandas.Series.dt.html) to access easily datetimelike properties.\n",
    "- Specify labels for these columns and set to `column_labels`\n",
    "- Create a dataframe, `time_df,` containing the time data for this file by combining `column_labels` and `time_data` into a dictionary and converting this into a dataframe"
   ]
  },
  {
   "cell_type": "code",
   "execution_count": 13,
   "metadata": {
    "editable": true
   },
   "outputs": [],
   "source": [
    "df = df[df.page==\"NextSong\"]\n",
    "df_2 =df.copy()\n"
   ]
  },
  {
   "cell_type": "code",
   "execution_count": 14,
   "metadata": {
    "editable": true
   },
   "outputs": [
    {
     "data": {
      "text/html": [
       "<div>\n",
       "<style scoped>\n",
       "    .dataframe tbody tr th:only-of-type {\n",
       "        vertical-align: middle;\n",
       "    }\n",
       "\n",
       "    .dataframe tbody tr th {\n",
       "        vertical-align: top;\n",
       "    }\n",
       "\n",
       "    .dataframe thead th {\n",
       "        text-align: right;\n",
       "    }\n",
       "</style>\n",
       "<table border=\"1\" class=\"dataframe\">\n",
       "  <thead>\n",
       "    <tr style=\"text-align: right;\">\n",
       "      <th></th>\n",
       "      <th>artist</th>\n",
       "      <th>auth</th>\n",
       "      <th>firstName</th>\n",
       "      <th>gender</th>\n",
       "      <th>itemInSession</th>\n",
       "      <th>lastName</th>\n",
       "      <th>length</th>\n",
       "      <th>level</th>\n",
       "      <th>location</th>\n",
       "      <th>method</th>\n",
       "      <th>page</th>\n",
       "      <th>registration</th>\n",
       "      <th>sessionId</th>\n",
       "      <th>song</th>\n",
       "      <th>status</th>\n",
       "      <th>ts</th>\n",
       "      <th>userAgent</th>\n",
       "      <th>userId</th>\n",
       "    </tr>\n",
       "  </thead>\n",
       "  <tbody>\n",
       "    <tr>\n",
       "      <th>0</th>\n",
       "      <td>The Killers</td>\n",
       "      <td>Logged In</td>\n",
       "      <td>Jayden</td>\n",
       "      <td>M</td>\n",
       "      <td>32</td>\n",
       "      <td>Graves</td>\n",
       "      <td>246.80444</td>\n",
       "      <td>paid</td>\n",
       "      <td>Marinette, WI-MI</td>\n",
       "      <td>PUT</td>\n",
       "      <td>NextSong</td>\n",
       "      <td>1.540664e+12</td>\n",
       "      <td>594</td>\n",
       "      <td>Read My Mind</td>\n",
       "      <td>200</td>\n",
       "      <td>1970-01-01 00:25:42.672042796</td>\n",
       "      <td>\"Mozilla/5.0 (Windows NT 6.3; WOW64) AppleWebK...</td>\n",
       "      <td>25</td>\n",
       "    </tr>\n",
       "    <tr>\n",
       "      <th>1</th>\n",
       "      <td>Tamia</td>\n",
       "      <td>Logged In</td>\n",
       "      <td>Jayden</td>\n",
       "      <td>M</td>\n",
       "      <td>33</td>\n",
       "      <td>Graves</td>\n",
       "      <td>243.09506</td>\n",
       "      <td>paid</td>\n",
       "      <td>Marinette, WI-MI</td>\n",
       "      <td>PUT</td>\n",
       "      <td>NextSong</td>\n",
       "      <td>1.540664e+12</td>\n",
       "      <td>594</td>\n",
       "      <td>Officially Missing You (Radio Version)</td>\n",
       "      <td>200</td>\n",
       "      <td>1970-01-01 00:25:42.672288796</td>\n",
       "      <td>\"Mozilla/5.0 (Windows NT 6.3; WOW64) AppleWebK...</td>\n",
       "      <td>25</td>\n",
       "    </tr>\n",
       "    <tr>\n",
       "      <th>2</th>\n",
       "      <td>Randy Crawford</td>\n",
       "      <td>Logged In</td>\n",
       "      <td>Jayden</td>\n",
       "      <td>M</td>\n",
       "      <td>34</td>\n",
       "      <td>Graves</td>\n",
       "      <td>270.75873</td>\n",
       "      <td>paid</td>\n",
       "      <td>Marinette, WI-MI</td>\n",
       "      <td>PUT</td>\n",
       "      <td>NextSong</td>\n",
       "      <td>1.540664e+12</td>\n",
       "      <td>594</td>\n",
       "      <td>Almaz</td>\n",
       "      <td>200</td>\n",
       "      <td>1970-01-01 00:25:42.672531796</td>\n",
       "      <td>\"Mozilla/5.0 (Windows NT 6.3; WOW64) AppleWebK...</td>\n",
       "      <td>25</td>\n",
       "    </tr>\n",
       "    <tr>\n",
       "      <th>3</th>\n",
       "      <td>Frumpies</td>\n",
       "      <td>Logged In</td>\n",
       "      <td>Jayden</td>\n",
       "      <td>M</td>\n",
       "      <td>35</td>\n",
       "      <td>Graves</td>\n",
       "      <td>134.47791</td>\n",
       "      <td>paid</td>\n",
       "      <td>Marinette, WI-MI</td>\n",
       "      <td>PUT</td>\n",
       "      <td>NextSong</td>\n",
       "      <td>1.540664e+12</td>\n",
       "      <td>594</td>\n",
       "      <td>Fuck Kitty</td>\n",
       "      <td>200</td>\n",
       "      <td>1970-01-01 00:25:42.672801796</td>\n",
       "      <td>\"Mozilla/5.0 (Windows NT 6.3; WOW64) AppleWebK...</td>\n",
       "      <td>25</td>\n",
       "    </tr>\n",
       "    <tr>\n",
       "      <th>4</th>\n",
       "      <td>Julia Fordham</td>\n",
       "      <td>Logged In</td>\n",
       "      <td>Jayden</td>\n",
       "      <td>M</td>\n",
       "      <td>36</td>\n",
       "      <td>Graves</td>\n",
       "      <td>279.50975</td>\n",
       "      <td>paid</td>\n",
       "      <td>Marinette, WI-MI</td>\n",
       "      <td>PUT</td>\n",
       "      <td>NextSong</td>\n",
       "      <td>1.540664e+12</td>\n",
       "      <td>594</td>\n",
       "      <td>Girlfriend</td>\n",
       "      <td>200</td>\n",
       "      <td>1970-01-01 00:25:42.672935796</td>\n",
       "      <td>\"Mozilla/5.0 (Windows NT 6.3; WOW64) AppleWebK...</td>\n",
       "      <td>25</td>\n",
       "    </tr>\n",
       "  </tbody>\n",
       "</table>\n",
       "</div>"
      ],
      "text/plain": [
       "           artist       auth firstName gender  itemInSession lastName  \\\n",
       "0     The Killers  Logged In    Jayden      M             32   Graves   \n",
       "1           Tamia  Logged In    Jayden      M             33   Graves   \n",
       "2  Randy Crawford  Logged In    Jayden      M             34   Graves   \n",
       "3        Frumpies  Logged In    Jayden      M             35   Graves   \n",
       "4   Julia Fordham  Logged In    Jayden      M             36   Graves   \n",
       "\n",
       "      length level          location method      page  registration  \\\n",
       "0  246.80444  paid  Marinette, WI-MI    PUT  NextSong  1.540664e+12   \n",
       "1  243.09506  paid  Marinette, WI-MI    PUT  NextSong  1.540664e+12   \n",
       "2  270.75873  paid  Marinette, WI-MI    PUT  NextSong  1.540664e+12   \n",
       "3  134.47791  paid  Marinette, WI-MI    PUT  NextSong  1.540664e+12   \n",
       "4  279.50975  paid  Marinette, WI-MI    PUT  NextSong  1.540664e+12   \n",
       "\n",
       "   sessionId                                    song  status  \\\n",
       "0        594                            Read My Mind     200   \n",
       "1        594  Officially Missing You (Radio Version)     200   \n",
       "2        594                                   Almaz     200   \n",
       "3        594                              Fuck Kitty     200   \n",
       "4        594                              Girlfriend     200   \n",
       "\n",
       "                             ts  \\\n",
       "0 1970-01-01 00:25:42.672042796   \n",
       "1 1970-01-01 00:25:42.672288796   \n",
       "2 1970-01-01 00:25:42.672531796   \n",
       "3 1970-01-01 00:25:42.672801796   \n",
       "4 1970-01-01 00:25:42.672935796   \n",
       "\n",
       "                                           userAgent userId  \n",
       "0  \"Mozilla/5.0 (Windows NT 6.3; WOW64) AppleWebK...     25  \n",
       "1  \"Mozilla/5.0 (Windows NT 6.3; WOW64) AppleWebK...     25  \n",
       "2  \"Mozilla/5.0 (Windows NT 6.3; WOW64) AppleWebK...     25  \n",
       "3  \"Mozilla/5.0 (Windows NT 6.3; WOW64) AppleWebK...     25  \n",
       "4  \"Mozilla/5.0 (Windows NT 6.3; WOW64) AppleWebK...     25  "
      ]
     },
     "execution_count": 14,
     "metadata": {},
     "output_type": "execute_result"
    }
   ],
   "source": [
    "df_2[\"ts\"] = pd.to_datetime(df_2[\"ts\"],format='%Y-%m-%dT%H:%M:%SZ',infer_datetime_format=True)\n",
    "df_2.head()\n"
   ]
  },
  {
   "cell_type": "code",
   "execution_count": 22,
   "metadata": {
    "editable": true
   },
   "outputs": [],
   "source": [
    "t= df_2[\"ts\"]\n",
    "t_seconds=df[\"ts\"]//10**3"
   ]
  },
  {
   "cell_type": "code",
   "execution_count": 23,
   "metadata": {
    "editable": true
   },
   "outputs": [],
   "source": [
    "time_data = ([t_seconds,t.dt.hour,t.dt.day,t.dt.weekofyear,t.dt.month,t.dt.year,t.dt.weekday])\n",
    "column_labels = (\"start_time\",\"hour\",\"day\",\"week_of_year\",\"month\",\"year\",\"weekday\")\n"
   ]
  },
  {
   "cell_type": "code",
   "execution_count": 25,
   "metadata": {
    "editable": true
   },
   "outputs": [
    {
     "data": {
      "text/html": [
       "<div>\n",
       "<style scoped>\n",
       "    .dataframe tbody tr th:only-of-type {\n",
       "        vertical-align: middle;\n",
       "    }\n",
       "\n",
       "    .dataframe tbody tr th {\n",
       "        vertical-align: top;\n",
       "    }\n",
       "\n",
       "    .dataframe thead th {\n",
       "        text-align: right;\n",
       "    }\n",
       "</style>\n",
       "<table border=\"1\" class=\"dataframe\">\n",
       "  <thead>\n",
       "    <tr style=\"text-align: right;\">\n",
       "      <th></th>\n",
       "      <th>start_time</th>\n",
       "      <th>hour</th>\n",
       "      <th>day</th>\n",
       "      <th>week_of_year</th>\n",
       "      <th>month</th>\n",
       "      <th>year</th>\n",
       "      <th>weekday</th>\n",
       "    </tr>\n",
       "  </thead>\n",
       "  <tbody>\n",
       "    <tr>\n",
       "      <th>0</th>\n",
       "      <td>1542672042</td>\n",
       "      <td>0</td>\n",
       "      <td>1</td>\n",
       "      <td>1</td>\n",
       "      <td>1</td>\n",
       "      <td>1970</td>\n",
       "      <td>3</td>\n",
       "    </tr>\n",
       "    <tr>\n",
       "      <th>1</th>\n",
       "      <td>1542672288</td>\n",
       "      <td>0</td>\n",
       "      <td>1</td>\n",
       "      <td>1</td>\n",
       "      <td>1</td>\n",
       "      <td>1970</td>\n",
       "      <td>3</td>\n",
       "    </tr>\n",
       "    <tr>\n",
       "      <th>2</th>\n",
       "      <td>1542672531</td>\n",
       "      <td>0</td>\n",
       "      <td>1</td>\n",
       "      <td>1</td>\n",
       "      <td>1</td>\n",
       "      <td>1970</td>\n",
       "      <td>3</td>\n",
       "    </tr>\n",
       "    <tr>\n",
       "      <th>3</th>\n",
       "      <td>1542672801</td>\n",
       "      <td>0</td>\n",
       "      <td>1</td>\n",
       "      <td>1</td>\n",
       "      <td>1</td>\n",
       "      <td>1970</td>\n",
       "      <td>3</td>\n",
       "    </tr>\n",
       "    <tr>\n",
       "      <th>4</th>\n",
       "      <td>1542672935</td>\n",
       "      <td>0</td>\n",
       "      <td>1</td>\n",
       "      <td>1</td>\n",
       "      <td>1</td>\n",
       "      <td>1970</td>\n",
       "      <td>3</td>\n",
       "    </tr>\n",
       "  </tbody>\n",
       "</table>\n",
       "</div>"
      ],
      "text/plain": [
       "   start_time  hour  day  week_of_year  month  year  weekday\n",
       "0  1542672042     0    1             1      1  1970        3\n",
       "1  1542672288     0    1             1      1  1970        3\n",
       "2  1542672531     0    1             1      1  1970        3\n",
       "3  1542672801     0    1             1      1  1970        3\n",
       "4  1542672935     0    1             1      1  1970        3"
      ]
     },
     "execution_count": 25,
     "metadata": {},
     "output_type": "execute_result"
    }
   ],
   "source": [
    "time_df = pd.DataFrame({column_labels[0]:time_data[0],column_labels[1]:time_data[1],column_labels[2]:time_data[2],\\\n",
    "                        column_labels[3]:time_data[3],column_labels[4]:time_data[4],\\\n",
    "                        column_labels[5]:time_data[5],column_labels[6]:time_data[6]})\n",
    "\n",
    "time_df.head()"
   ]
  },
  {
   "cell_type": "markdown",
   "metadata": {
    "editable": true
   },
   "source": [
    "#### Insert Records into Time Table\n",
    "Implement the `time_table_insert` query in `sql_queries.py` and run the cell below to insert records for the timestamps in this log file into the `time` table. Remember to run `create_tables.py` before running the cell below to ensure you've created/resetted the `time` table in the sparkify database."
   ]
  },
  {
   "cell_type": "code",
   "execution_count": 31,
   "metadata": {
    "editable": true
   },
   "outputs": [],
   "source": [
    "for i, row in time_df.iterrows():\n",
    "    cur.execute(time_table_insert, list(row))\n",
    "    conn.commit()\n",
    "    "
   ]
  },
  {
   "cell_type": "markdown",
   "metadata": {
    "editable": true
   },
   "source": [
    "Run `test.ipynb` to see if you've successfully added records to this table."
   ]
  },
  {
   "cell_type": "markdown",
   "metadata": {
    "editable": true
   },
   "source": [
    "## #4: `users` Table\n",
    "#### Extract Data for Users Table\n",
    "- Select columns for user ID, first name, last name, gender and level and set to `user_df`"
   ]
  },
  {
   "cell_type": "code",
   "execution_count": 19,
   "metadata": {
    "editable": true
   },
   "outputs": [
    {
     "data": {
      "text/html": [
       "<div>\n",
       "<style scoped>\n",
       "    .dataframe tbody tr th:only-of-type {\n",
       "        vertical-align: middle;\n",
       "    }\n",
       "\n",
       "    .dataframe tbody tr th {\n",
       "        vertical-align: top;\n",
       "    }\n",
       "\n",
       "    .dataframe thead th {\n",
       "        text-align: right;\n",
       "    }\n",
       "</style>\n",
       "<table border=\"1\" class=\"dataframe\">\n",
       "  <thead>\n",
       "    <tr style=\"text-align: right;\">\n",
       "      <th></th>\n",
       "      <th>userId</th>\n",
       "      <th>firstName</th>\n",
       "      <th>lastName</th>\n",
       "      <th>gender</th>\n",
       "      <th>level</th>\n",
       "    </tr>\n",
       "  </thead>\n",
       "  <tbody>\n",
       "    <tr>\n",
       "      <th>0</th>\n",
       "      <td>25</td>\n",
       "      <td>Jayden</td>\n",
       "      <td>Graves</td>\n",
       "      <td>M</td>\n",
       "      <td>paid</td>\n",
       "    </tr>\n",
       "    <tr>\n",
       "      <th>1</th>\n",
       "      <td>25</td>\n",
       "      <td>Jayden</td>\n",
       "      <td>Graves</td>\n",
       "      <td>M</td>\n",
       "      <td>paid</td>\n",
       "    </tr>\n",
       "    <tr>\n",
       "      <th>2</th>\n",
       "      <td>25</td>\n",
       "      <td>Jayden</td>\n",
       "      <td>Graves</td>\n",
       "      <td>M</td>\n",
       "      <td>paid</td>\n",
       "    </tr>\n",
       "    <tr>\n",
       "      <th>3</th>\n",
       "      <td>25</td>\n",
       "      <td>Jayden</td>\n",
       "      <td>Graves</td>\n",
       "      <td>M</td>\n",
       "      <td>paid</td>\n",
       "    </tr>\n",
       "    <tr>\n",
       "      <th>4</th>\n",
       "      <td>25</td>\n",
       "      <td>Jayden</td>\n",
       "      <td>Graves</td>\n",
       "      <td>M</td>\n",
       "      <td>paid</td>\n",
       "    </tr>\n",
       "  </tbody>\n",
       "</table>\n",
       "</div>"
      ],
      "text/plain": [
       "  userId firstName lastName gender level\n",
       "0     25    Jayden   Graves      M  paid\n",
       "1     25    Jayden   Graves      M  paid\n",
       "2     25    Jayden   Graves      M  paid\n",
       "3     25    Jayden   Graves      M  paid\n",
       "4     25    Jayden   Graves      M  paid"
      ]
     },
     "execution_count": 19,
     "metadata": {},
     "output_type": "execute_result"
    }
   ],
   "source": [
    "user_df = df_2[[\"userId\",\"firstName\",\"lastName\",\"gender\",\"level\"]]\n",
    "user_df.head()"
   ]
  },
  {
   "cell_type": "markdown",
   "metadata": {
    "editable": true
   },
   "source": [
    "#### Insert Records into Users Table\n",
    "Implement the `user_table_insert` query in `sql_queries.py` and run the cell below to insert records for the users in this log file into the `users` table. Remember to run `create_tables.py` before running the cell below to ensure you've created/resetted the `users` table in the sparkify database."
   ]
  },
  {
   "cell_type": "code",
   "execution_count": 21,
   "metadata": {
    "editable": true
   },
   "outputs": [],
   "source": [
    "for i, row in user_df.iterrows():\n",
    "    cur.execute(user_table_insert,list(row))\n",
    "    conn.commit()"
   ]
  },
  {
   "cell_type": "markdown",
   "metadata": {
    "editable": true
   },
   "source": [
    "Run `test.ipynb` to see if you've successfully added records to this table."
   ]
  },
  {
   "cell_type": "markdown",
   "metadata": {
    "editable": true
   },
   "source": [
    "## #5: `songplays` Table\n",
    "#### Extract Data and Songplays Table\n",
    "This one is a little more complicated since information from the songs table, artists table, and original log file are all needed for the `songplays` table. Since the log file does not specify an ID for either the song or the artist, you'll need to get the song ID and artist ID by querying the songs and artists tables to find matches based on song title, artist name, and song duration time.\n",
    "- Implement the `song_select` query in `sql_queries.py` to find the song ID and artist ID based on the title, artist name, and duration of a song.\n",
    "- Select the timestamp, user ID, level, song ID, artist ID, session ID, location, and user agent and set to `songplay_data`\n",
    "\n",
    "#### Insert Records into Songplays Table\n",
    "- Implement the `songplay_table_insert` query and run the cell below to insert records for the songplay actions in this log file into the `songplays` table. Remember to run `create_tables.py` before running the cell below to ensure you've created/resetted the `songplays` table in the sparkify database."
   ]
  },
  {
   "cell_type": "code",
   "execution_count": 26,
   "metadata": {
    "editable": true
   },
   "outputs": [],
   "source": [
    "for index, row in df.iterrows():\n",
    "\n",
    "    # get songid and artistid from song and artist tables, row.length row.song,\n",
    "    cur.execute(song_select, (row.song,row.artist,row.length))\n",
    "    results = cur.fetchone()\n",
    "    \n",
    "    if results:\n",
    "        songid, artistid = results\n",
    "    else:\n",
    "        songid, artistid = None, None\n",
    "        \n",
    "    \n",
    "\n",
    "    # insert songplay record\n",
    "    songplay_data = (index,row.ts//10**3,row.userId,row.level,songid,artistid,\n",
    "                     row.sessionId,row.location,row.userAgent)\n",
    "    cur.execute(songplay_table_insert, songplay_data)\n",
    "    conn.commit()\n",
    "    "
   ]
  },
  {
   "cell_type": "markdown",
   "metadata": {
    "editable": true
   },
   "source": [
    "Run `test.ipynb` to see if you've successfully added records to this table."
   ]
  },
  {
   "cell_type": "markdown",
   "metadata": {
    "editable": true
   },
   "source": [
    "# Close Connection to Sparkify Database"
   ]
  },
  {
   "cell_type": "code",
   "execution_count": 26,
   "metadata": {
    "editable": true
   },
   "outputs": [],
   "source": [
    "conn.close()"
   ]
  },
  {
   "cell_type": "markdown",
   "metadata": {
    "editable": true
   },
   "source": [
    "# Implement `etl.py`\n",
    "Use what you've completed in this notebook to implement `etl.py`."
   ]
  },
  {
   "cell_type": "code",
   "execution_count": null,
   "metadata": {
    "editable": true
   },
   "outputs": [],
   "source": []
  }
 ],
 "metadata": {
  "kernelspec": {
   "display_name": "Python 3",
   "language": "python",
   "name": "python3"
  },
  "language_info": {
   "codemirror_mode": {
    "name": "ipython",
    "version": 3
   },
   "file_extension": ".py",
   "mimetype": "text/x-python",
   "name": "python",
   "nbconvert_exporter": "python",
   "pygments_lexer": "ipython3",
   "version": "3.6.3"
  }
 },
 "nbformat": 4,
 "nbformat_minor": 4
}
